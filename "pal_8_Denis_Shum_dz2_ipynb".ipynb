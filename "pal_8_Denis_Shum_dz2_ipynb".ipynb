{
  "nbformat": 4,
  "nbformat_minor": 0,
  "metadata": {
    "colab": {
      "name": "\"pal-8_Denis_Shum_dz2.ipynb\"",
      "provenance": [],
      "collapsed_sections": [],
      "authorship_tag": "ABX9TyNSGSjm5fusTOFQn8Zo8fIA",
      "include_colab_link": true
    },
    "kernelspec": {
      "name": "python3",
      "display_name": "Python 3"
    },
    "language_info": {
      "name": "python"
    }
  },
  "cells": [
    {
      "cell_type": "markdown",
      "metadata": {
        "id": "view-in-github",
        "colab_type": "text"
      },
      "source": [
        "<a href=\"https://colab.research.google.com/github/DenShum/Python-/blob/main/%22pal_8_Denis_Shum_dz2_ipynb%22.ipynb\" target=\"_parent\"><img src=\"https://colab.research.google.com/assets/colab-badge.svg\" alt=\"Open In Colab\"/></a>"
      ]
    },
    {
      "cell_type": "markdown",
      "metadata": {
        "id": "Z4BN6dL4my28"
      },
      "source": [
        "Задание 1\n",
        "Дана переменная, в которой хранится слово из латинских букв. Напишите код, который выводит на экран:\n",
        "\n",
        "среднюю букву, если число букв в слове нечетное;\n",
        "две средних буквы, если число букв четное.\n",
        "Примеры работы программы:\n",
        "\n",
        "1.word = 'test’\n",
        "Результат:\n",
        "es\n",
        "\n",
        "1.word = 'testing’\n",
        "Результат:\n",
        "t"
      ]
    },
    {
      "cell_type": "code",
      "metadata": {
        "id": "HAXGqVBdFHxg",
        "colab": {
          "base_uri": "https://localhost:8080/"
        },
        "outputId": "9b0c494f-3a85-44d6-cd9b-17a08ae57769"
      },
      "source": [
        "word = 'test'\n",
        "n=len(word)\n",
        "if n%2==0:\n",
        "  print(word[int(n/2)-1],word[int(n/2)])\n",
        "\n",
        "word = 'testing'\n",
        "n=len(word)\n",
        "if n%2==1:\n",
        "  print(word[int(n/2)])\n"
      ],
      "execution_count": 2,
      "outputs": [
        {
          "output_type": "stream",
          "name": "stdout",
          "text": [
            "e s\n",
            "t\n"
          ]
        }
      ]
    },
    {
      "cell_type": "markdown",
      "metadata": {
        "id": "W6BxihiVm3IO"
      },
      "source": [
        "Задание 2\n",
        "Напишите программу, которая последовательно запрашивает у пользователя числа (по одному за раз) и после первого нуля выводит сумму всех ранее введенных чисел.\n",
        "\n",
        "Примеры работы программы:\n",
        "\n",
        "Введите число:\n",
        "1\n",
        "\n",
        "Введите число:\n",
        "4\n",
        "\n",
        "Введите число:\n",
        "6\n",
        "\n",
        "Введите число:\n",
        "0\n",
        "Результат:\n",
        "11\n",
        "\n",
        "Введите число:\n",
        "0\n",
        "Результат:\n",
        "0"
      ]
    },
    {
      "cell_type": "code",
      "metadata": {
        "id": "CoxRz404uH7G"
      },
      "source": [
        "x=int(input())\n",
        "sum=0\n",
        "while x!=0: \n",
        "  sum += x\n",
        "  x=int(input('Введите число:'))\n",
        "  print(x)\n",
        "  if x == 0: \n",
        "   print(sum)\n",
        " "
      ],
      "execution_count": null,
      "outputs": []
    },
    {
      "cell_type": "markdown",
      "metadata": {
        "id": "Ka7HiLBsm-2Z"
      },
      "source": [
        "Задание 3\n",
        "Мы делаем MVP dating-сервиса, и у нас есть список парней и девушек.\n",
        "Выдвигаем гипотезу: лучшие рекомендации мы получим, если просто отсортируем имена по алфавиту и познакомим людей с одинаковыми индексами после сортировки! Но мы не будем никого знакомить, если кто-то может остаться без пары:\n",
        "\n",
        "Примеры работы программы:\n",
        "1.\n",
        "boys = [‘Peter’, ‘Alex’, ‘John’, ‘Arthur’, ‘Richard’]\n",
        "girls = [‘Kate’, ‘Liza’, ‘Kira’, ‘Emma’, ‘Trisha’]\n",
        "\n",
        "Результат:\n",
        "Идеальные пары:\n",
        "Alex и Emma\n",
        "Arthur и Kate\n",
        "John и Kira\n",
        "Peter и Liza\n",
        "Richard и Trisha\n",
        "\n",
        "boys = [‘Peter’, ‘Alex’, ‘John’, ‘Arthur’, ‘Richard’, ‘Michael’]\n",
        "girls = [‘Kate’, ‘Liza’, ‘Kira’, ‘Emma’, ‘Trisha’]\n",
        "\n",
        "Результат:\n",
        "Внимание, кто-то может остаться без пары!"
      ]
    },
    {
      "cell_type": "code",
      "metadata": {
        "id": "O4l06zN0_UeO",
        "colab": {
          "base_uri": "https://localhost:8080/"
        },
        "outputId": "c48e23af-a552-48fb-b8cf-a8ff96ba1da5"
      },
      "source": [
        "boys = ['Peter','Alex', 'John', 'Arthur', 'Richard']\n",
        "girls = ['Kate', 'Liza', 'Kira', 'Emma', 'Trisha']\n",
        "if len(boys)==len(girls):\n",
        "    print(\"Идеальная пара:\")\n",
        "    boys.sort()\n",
        "    girls.sort()\n",
        "    dating = zip(boys, girls)\n",
        "    for company in dating:\n",
        "        print(f\"{company[0]} и {company[1]}\")\n",
        "else:\n",
        "     print(\"Кто то может остаться без пары\")\n",
        "\n"
      ],
      "execution_count": 1,
      "outputs": [
        {
          "output_type": "stream",
          "name": "stdout",
          "text": [
            "Идеальная пара:\n",
            "Alex и Emma\n",
            "Arthur и Kate\n",
            "John и Kira\n",
            "Peter и Liza\n",
            "Richard и Trisha\n"
          ]
        }
      ]
    },
    {
      "cell_type": "markdown",
      "metadata": {
        "id": "zR9KIUmJnL0s"
      },
      "source": [
        "Задание 4\n",
        "У нас есть список, содержащий информацию о среднедневной температуре в Фаренгейтах за произвольный период по странам (структура данных в примере). Необходимо написать код, который рассчитает среднюю температуру за период в Цельсиях(!) для каждой страны.\n",
        "\n",
        "Пример работы программы:\n",
        "\n",
        "countries_temperature = [\n",
        "[‘Thailand’, [75.2, 77, 78.8, 73.4, 68, 75.2, 77]],\n",
        "[‘Germany’, [57.2, 55.4, 59, 59, 53.6]],\n",
        "[‘Russia’, [35.6, 37.4, 39.2, 41, 42.8, 39.2, 35.6]],\n",
        "[‘Poland’, [50, 50, 53.6, 57.2, 55.4, 55.4]]\n",
        "]\n",
        "Результат:\n",
        "\n",
        "Средняя температура в странах:\n",
        "Thailand - 23.9 С\n",
        "Germany - 13.8 С\n",
        "Russia - 3.7 С\n",
        "Poland - 12.0 С"
      ]
    },
    {
      "cell_type": "code",
      "metadata": {
        "colab": {
          "base_uri": "https://localhost:8080/"
        },
        "id": "2bVgs1xUzs2P",
        "outputId": "932d1dbb-be77-4b66-cfb1-82334cbf92e9"
      },
      "source": [
        "countries_temperature = [\n",
        "['Thailand', [75.2, 77, 78.8, 73.4, 68, 75.2, 77]],\n",
        "['Germany', [57.2, 55.4, 59, 59, 53.6]],\n",
        "['Russia', [35.6, 37.4, 39.2, 41, 42.8, 39.2, 35.6]],\n",
        "['Poland', [50, 50, 53.6, 57.2, 55.4, 55.4]]\n",
        "]\n",
        "for n in countries_temperature:\n",
        "    print(n[0], '-', round((sum(n[1]) / len(n[1]) - 32) / 1.8, 1), 'C')"
      ],
      "execution_count": null,
      "outputs": [
        {
          "output_type": "stream",
          "text": [
            "Thailand - 23.9 C\n",
            "Germany - 13.8 C\n",
            "Russia - 3.7 C\n",
            "Poland - 12.0 C\n"
          ],
          "name": "stdout"
        }
      ]
    }
  ]
}