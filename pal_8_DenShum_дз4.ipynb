{
  "nbformat": 4,
  "nbformat_minor": 0,
  "metadata": {
    "colab": {
      "name": "pal-8_DenShum_дз4",
      "provenance": [],
      "collapsed_sections": [],
      "authorship_tag": "ABX9TyP/FiScly+PTqPnjhsjMYy2",
      "include_colab_link": true
    },
    "kernelspec": {
      "name": "python3",
      "display_name": "Python 3"
    },
    "language_info": {
      "name": "python"
    }
  },
  "cells": [
    {
      "cell_type": "markdown",
      "metadata": {
        "id": "view-in-github",
        "colab_type": "text"
      },
      "source": [
        "<a href=\"https://colab.research.google.com/github/DenShum/Python-/blob/main/pal_8_DenShum_%D0%B4%D0%B74.ipynb\" target=\"_parent\"><img src=\"https://colab.research.google.com/assets/colab-badge.svg\" alt=\"Open In Colab\"/></a>"
      ]
    },
    {
      "cell_type": "markdown",
      "metadata": {
        "id": "PircRP1baih-"
      },
      "source": [
        " Вам нужно помочь секретарю автоматизировать работу. Для этого нужно написать программу, которая будет на основе хранимых данных исполнять пользовательские команды.\n",
        "Общие требования к программе:\n",
        "\n",
        "код должен быть грамотно декомпозирован (каждая функция отвечает за свою конкретную задачу, дублирующийся функционал переиспользуется, а его код не повторяется);\n",
        "в коде отсутствуют глобальные переменные (за исключением documents и directories);\n",
        "пользовательский ввод обрабатывается в цикле while до тех пор, пока пользователь явно не завершит программу (вводом команды “q”).\n",
        "\n",
        "Задание 1\n",
        "Пункт 1. Пользователь по команде “p” может узнать владельца документа по его номеру"
      ]
    },
    {
      "cell_type": "code",
      "metadata": {
        "colab": {
          "base_uri": "https://localhost:8080/"
        },
        "id": "aj9fAAGskz8b",
        "outputId": "2e754422-314e-4250-c84e-440b990d098b"
      },
      "source": [
        "documents = [\n",
        "{'type': 'passport', 'number': '2207 876234', 'name': 'Василий Гупкин'},\n",
        "{'type': 'invoice', 'number': '11-2', 'name': 'Геннадий Покемонов'},\n",
        "{'type': 'insurance', 'number': '10006', 'name': 'Аристарх Павлов'}\n",
        "]\n",
        "directories = {'1': ['2207 876234', '11-2'],\n",
        "'2': ['10006'],\n",
        "'3': []\n",
        "}\n",
        "def name_():\n",
        "  user_input = input('Введите номер документа: ')\n",
        "  for document in documents:\n",
        "        number = document['number']\n",
        "        name = document['name']\n",
        "        if user_input == number:\n",
        "            name = name\n",
        "            break\n",
        "        else:\n",
        "            name = None\n",
        "  if name != None:\n",
        "        print(f'Владелец документа: {name}')\n",
        "  else:\n",
        "        print('Документ не найден в базе')\n",
        "\n",
        "name_()"
      ],
      "execution_count": null,
      "outputs": [
        {
          "output_type": "stream",
          "text": [
            "Введите номер документа: 10006\n",
            "Владелец документа: Аристарх Павлов\n"
          ],
          "name": "stdout"
        }
      ]
    },
    {
      "cell_type": "markdown",
      "metadata": {
        "id": "F4_OUiJL7pqQ"
      },
      "source": [
        "Пункт 2. Пользователь по команде “s” может по номеру документа узнать на какой полке он хранится"
      ]
    },
    {
      "cell_type": "code",
      "metadata": {
        "colab": {
          "base_uri": "https://localhost:8080/"
        },
        "id": "XcisDaiAsEA_",
        "outputId": "5065bacd-8fbc-41f5-9c38-e61a6b325c1e"
      },
      "source": [
        "def shelf():\n",
        "  command2 = input('Введите номер документа: ')  \n",
        "  for document in documents:\n",
        "      number = document['number']\n",
        "      name = document['name']\n",
        "      if command2 == number:\n",
        "        a = number\n",
        "      else:\n",
        "        a = None\n",
        "  if a != None:\n",
        "     rev_directories = dict((v, key) for key, vals in directories.items() for v in vals)\n",
        "     for key,val in rev_directories.items():\n",
        "        if a == key:\n",
        "            val = val\n",
        "            break\n",
        "        else:\n",
        "            val = None\n",
        "  else:\n",
        "        return 'Документ не найден в базе'\n",
        "  if val != None :\n",
        "        return f'Документ хранится на полке:  {val}'\n",
        "  else:\n",
        "        return 'Документ не найден в базе'\n",
        "        \n",
        "print(shelf())\n"
      ],
      "execution_count": null,
      "outputs": [
        {
          "output_type": "stream",
          "text": [
            "Введите номер документа: 10006\n",
            "Документ хранится на полке:  2\n"
          ],
          "name": "stdout"
        }
      ]
    },
    {
      "cell_type": "markdown",
      "metadata": {
        "id": "KgCiPZxG7VQh"
      },
      "source": [
        "Пункт 3. Пользователь по команде “l” может увидеть полную информацию по всем документам\n",
        "Результат:\n",
        "\n",
        "№: 2207 876234, тип: passport, владелец: Василий Гупкин, полка хранения: 1\n",
        "№: 11-2, тип: invoice, владелец: Геннадий Покемонов, полка хранения: 1\n",
        "№: 10006, тип: insurance, владелец: Аристарх Павлов, полка хранения: 2"
      ]
    },
    {
      "cell_type": "code",
      "metadata": {
        "colab": {
          "base_uri": "https://localhost:8080/"
        },
        "id": "wArnXoMv7gK7",
        "outputId": "473afd74-af4e-4851-f56e-600f88771a69"
      },
      "source": [
        "\n",
        "def everything ():\n",
        "  command = input('Введите команду: ')\n",
        "  for document in documents:\n",
        "    number = document['number']\n",
        "    rev_directories = dict((v, key) for key, vals in directories.items() for v in vals)\n",
        "    for key,val in rev_directories.items():\n",
        "     if key == number:\n",
        "          val=val\n",
        "          print('N', document['number'], 'тип', document['type'], 'владелец:', document['name'], 'полка хранения', val)\n",
        "    \n",
        "everything()"
      ],
      "execution_count": null,
      "outputs": [
        {
          "output_type": "stream",
          "text": [
            "Введите команду: p\n",
            "N 2207 876234 тип passport владелец: Василий Гупкин полка хранения 1\n",
            "N 11-2 тип invoice владелец: Геннадий Покемонов полка хранения 1\n",
            "N 10006 тип insurance владелец: Аристарх Павлов полка хранения 2\n"
          ],
          "name": "stdout"
        }
      ]
    },
    {
      "cell_type": "markdown",
      "metadata": {
        "id": "ouKKs9HDG9Od"
      },
      "source": [
        "4.Пользователь по команде “as” может добавить новую полку\n",
        "Примеры работы:\n",
        "\n",
        "Введите команду:\n",
        "as\n",
        "\n",
        "Введите номер полки:\n",
        "10\n",
        "\n",
        "Результат:\n",
        "Полка добавлена. Текущий перечень полок: 1, 2, 3, 10.\n",
        "\n",
        "Введите команду:\n",
        "as\n",
        "\n",
        "Введите номер полки:\n",
        "1\n",
        "\n",
        "Результат:\n",
        "Такая полка уже существует. Текущий перечень полок: 1, 2, 3."
      ]
    },
    {
      "cell_type": "code",
      "metadata": {
        "colab": {
          "base_uri": "https://localhost:8080/"
        },
        "id": "JMwqoYMhHUuO",
        "outputId": "bab4f607-a376-4c6b-ab3e-b5c061c0841f"
      },
      "source": [
        "def addition_shelf():\n",
        "    user_input = input('Введите номер полки: ')\n",
        "    if user_input not in directories.keys():\n",
        "        directories[user_input] = []\n",
        "        print('Полка добавлена. Текущий перечень полок:', ', '.join(directories.keys()), '.')        \n",
        "    else:\n",
        "        print('Такая полка уже существует. Текущий перечень полок:', ', '.join(directories.keys()), '.')\n",
        "addition_shelf()"
      ],
      "execution_count": null,
      "outputs": [
        {
          "output_type": "stream",
          "text": [
            "Введите номер полки: 1\n",
            "Такая полка уже существует. Текущий перечень полок: 1, 2, 3 .\n"
          ],
          "name": "stdout"
        }
      ]
    },
    {
      "cell_type": "markdown",
      "metadata": {
        "id": "CusDybq-TBak"
      },
      "source": [
        "Пункт 5. Пользователь по команде “ds” может удалить существующую полку из данных (только если она пустая)\n",
        "Примеры работы:\n",
        "\n",
        "Введите команду:\n",
        "ds\n",
        "\n",
        "Введите номер полки:\n",
        "3\n",
        "Результат:\n",
        "Полка удалена. Текущий перечень полок: 1, 2.,Введите номер полки:\n",
        "1\n",
        "Результат:\n",
        "На полке есть документа, удалите их перед удалением полки. Текущий перечень полок: 1, 2, 3."
      ]
    },
    {
      "cell_type": "code",
      "metadata": {
        "id": "ENg4tUGbTW-X",
        "colab": {
          "base_uri": "https://localhost:8080/"
        },
        "outputId": "a57cab61-aa51-47ac-9b8b-e4cafa743855"
      },
      "source": [
        "def delete_shelf():\n",
        "    user_input = input('Введите номер полки: ')\n",
        "    if user_input in list(directories.keys()) and directories[user_input] == [] :\n",
        "        del(directories[user_input])\n",
        "        print('Полка удалена.Текущий перечень полок:', ', '.join(directories.keys()), '.')\n",
        "    elif user_input in list(directories.keys()) and directories[user_input] != [] :\n",
        "        print('На полке есть документы, удалите их перед удалением полки.Текущий перечень полок:', ', '.join(directories.keys()), '.')\n",
        "    else:\n",
        "        print('Такой полки не существует. Текущий перечень полок:', ', '.join(directories.keys()), '.')\n",
        "delete_shelf()"
      ],
      "execution_count": null,
      "outputs": [
        {
          "output_type": "stream",
          "text": [
            "Введите номер полки: 1\n",
            "На полке есть документы, удалите их перед удалением полки.Текущий перечень полок: 1, 2, 3 .\n"
          ],
          "name": "stdout"
        }
      ]
    },
    {
      "cell_type": "code",
      "metadata": {
        "colab": {
          "base_uri": "https://localhost:8080/"
        },
        "id": "AHxZl0kNIniT",
        "outputId": "0874912f-9a30-492f-a752-2b83744dc4fa"
      },
      "source": [
        "def commands():\n",
        "    while True:\n",
        "        user_input0 = input('Введите команду ')\n",
        "        if user_input0 == 'p':\n",
        "            print(name_())\n",
        "        elif user_input0 == 's':\n",
        "            print(shelf())\n",
        "        elif user_input0 == 'l':\n",
        "            print(everything ())\n",
        "        elif user_input0 == 'as':\n",
        "            print(addition_shelf())\n",
        "        elif user_input0 == 'ds':\n",
        "            print(delete_shelf())        \n",
        "        elif user_input0 == 'q':\n",
        "            print('До свидания!')\n",
        "            break\n",
        "\n",
        "commands()"
      ],
      "execution_count": null,
      "outputs": [
        {
          "output_type": "stream",
          "text": [
            "Введите команду p\n",
            "Введите номер документа: 10006\n",
            "Владелец документа: Аристарх Павлов\n",
            "None\n",
            "Введите команду q\n",
            "До свидания!\n"
          ],
          "name": "stdout"
        }
      ]
    }
  ]
}