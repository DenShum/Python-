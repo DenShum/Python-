{
  "nbformat": 4,
  "nbformat_minor": 0,
  "metadata": {
    "colab": {
      "name": "дз5.ipynb",
      "provenance": [],
      "collapsed_sections": [],
      "authorship_tag": "ABX9TyNvxCmDEByKF+E7CseqHERo",
      "include_colab_link": true
    },
    "kernelspec": {
      "name": "python3",
      "display_name": "Python 3"
    },
    "language_info": {
      "name": "python"
    }
  },
  "cells": [
    {
      "cell_type": "markdown",
      "metadata": {
        "id": "view-in-github",
        "colab_type": "text"
      },
      "source": [
        "<a href=\"https://colab.research.google.com/github/DenShum/Python-/blob/main/%D0%B4%D0%B75.ipynb\" target=\"_parent\"><img src=\"https://colab.research.google.com/assets/colab-badge.svg\" alt=\"Open In Colab\"/></a>"
      ]
    },
    {
      "cell_type": "markdown",
      "metadata": {
        "id": "J69jolhMEHRN"
      },
      "source": [
        "1.Переведите содержимое файла purchase_log.txt в словарь purchases вида:\n",
        "{‘1840e0b9d4’: ‘Продукты’, …}"
      ]
    },
    {
      "cell_type": "code",
      "metadata": {
        "id": "UfP6I81IEPuX"
      },
      "source": [
        "import json\n",
        "# import ast\n",
        "m={}\n",
        "n={} \n",
        "with open(r'/content/purchase_log.txt',encoding='utf-8') as f:\n",
        "  first_line = json.loads(f.readline())#читаем первую строчку,чтоб вывести ее за рамки цикла \n",
        "  for line in f:\n",
        "    m = json.loads(line)    \n",
        "    k = (m['user_id'])#присваиваем переменной k значение ключа\n",
        "    v = (m['category'])#присваиваем переменной v значение\n",
        "    n[k]=(v)#добавляем в словарь n значение v по ключу k\n",
        "    print(n)\n",
        "   "
      ],
      "execution_count": null,
      "outputs": []
    },
    {
      "cell_type": "markdown",
      "metadata": {
        "id": "5bgqAEdmD--w"
      },
      "source": [
        "2.Для каждого user_id в файле visit_log.csv определите третий столбец с категорией покупки (если покупка была, сам файл visit_log.csv изменять не надо). Запишите в файл funnel.csv визиты из файла visit_log.csv, в которых были покупки с указанием категории.\n",
        "Учтите условия на данные:\n",
        "содержимое purchase_log.txt помещается в оперативную память компьютера\n",
        "содержимое visit_log.csv - нет; используйте только построчную обработку этого файла"
      ]
    },
    {
      "cell_type": "code",
      "metadata": {
        "id": "lZ67UmtC33Lr"
      },
      "source": [
        "import json\n",
        "import csv\n",
        " \n",
        "with open('/content/funnel.csv', 'w') as f:\n",
        "  with open(r'/content/purchase_log.txt',encoding='utf-8') as p:\n",
        "    for line in p:\n",
        "      m = json.loads(line)\n",
        "      user = m['user_id']\n",
        "      category = m['category'] \n",
        "      with open('/content/visit_log.csv', 'r') as v:\n",
        "        for x in v:\n",
        "          row = x.strip().split(',')\n",
        "          if row[0] in m['user_id']:\n",
        "           f.write (f'{row[0]} {row[1]} {category}\\n')\n",
        "with open('/content/funnel.csv', 'r') as f:\n",
        "  for xx in f:\n",
        "    print(xx)"
      ],
      "execution_count": null,
      "outputs": []
    },
    {
      "cell_type": "code",
      "metadata": {
        "colab": {
          "base_uri": "https://localhost:8080/",
          "height": 203
        },
        "id": "F6iYrnC3VBD7",
        "outputId": "1a9676f7-d629-4a76-a473-7e0c29026036"
      },
      "source": [
        "import pandas as pd\n",
        "df = pd.read_csv('funnel.csv')\n",
        "df.head()"
      ],
      "execution_count": null,
      "outputs": [
        {
          "output_type": "execute_result",
          "data": {
            "text/html": [
              "<div>\n",
              "<style scoped>\n",
              "    .dataframe tbody tr th:only-of-type {\n",
              "        vertical-align: middle;\n",
              "    }\n",
              "\n",
              "    .dataframe tbody tr th {\n",
              "        vertical-align: top;\n",
              "    }\n",
              "\n",
              "    .dataframe thead th {\n",
              "        text-align: right;\n",
              "    }\n",
              "</style>\n",
              "<table border=\"1\" class=\"dataframe\">\n",
              "  <thead>\n",
              "    <tr style=\"text-align: right;\">\n",
              "      <th></th>\n",
              "      <th>user_id source category</th>\n",
              "    </tr>\n",
              "  </thead>\n",
              "  <tbody>\n",
              "    <tr>\n",
              "      <th>0</th>\n",
              "      <td>1840e0b9d4 other Продукты</td>\n",
              "    </tr>\n",
              "    <tr>\n",
              "      <th>1</th>\n",
              "      <td>4e4f90fcfb context Электроника</td>\n",
              "    </tr>\n",
              "    <tr>\n",
              "      <th>2</th>\n",
              "      <td>afea8d72fc other Электроника</td>\n",
              "    </tr>\n",
              "    <tr>\n",
              "      <th>3</th>\n",
              "      <td>373a6055fe other Бытовая техника</td>\n",
              "    </tr>\n",
              "    <tr>\n",
              "      <th>4</th>\n",
              "      <td>9b2ab046f3 other Электроника</td>\n",
              "    </tr>\n",
              "  </tbody>\n",
              "</table>\n",
              "</div>"
            ],
            "text/plain": [
              "            user_id source category\n",
              "0         1840e0b9d4 other Продукты\n",
              "1    4e4f90fcfb context Электроника\n",
              "2      afea8d72fc other Электроника\n",
              "3  373a6055fe other Бытовая техника\n",
              "4      9b2ab046f3 other Электроника"
            ]
          },
          "metadata": {
            "tags": []
          },
          "execution_count": 95
        }
      ]
    },
    {
      "cell_type": "code",
      "metadata": {
        "id": "E_I05Kn0_swH"
      },
      "source": [
        "import json\n",
        "import csv\n",
        " \n",
        "with open('/content/funnel.csv', 'w') as f:\n",
        "  with open(r'/content/purchase_log.txt',encoding='utf-8') as p:\n",
        "    for line in p:\n",
        "      m = json.loads(line)\n",
        "      user = m['user_id']\n",
        "      category = m['category'] \n",
        "      with open('/content/visit_log.csv', 'r') as v:\n",
        "        for x in v:\n",
        "          row = x.strip().split(',')\n",
        "          user2 = row[0]\n",
        "          source = row[1]\n",
        "          res = {}\n",
        "          if user2 == user:\n",
        "            res[user2] = [source],[category]\n",
        "          f.write (f'{user2} {source} {category}\\n')\n",
        "with open('/content/funnel.csv', 'r') as f:\n",
        "  for xx in f:\n",
        "    print(xx)\n",
        "    break"
      ],
      "execution_count": null,
      "outputs": []
    },
    {
      "cell_type": "code",
      "metadata": {
        "id": "Ygqqyuj0JDzE"
      },
      "source": [
        "import pandas as pd\n",
        "df = pd.read_csv('funnel.csv')\n",
        "df.head()"
      ],
      "execution_count": null,
      "outputs": []
    }
  ]
}