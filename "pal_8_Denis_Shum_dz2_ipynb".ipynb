{
  "nbformat": 4,
  "nbformat_minor": 0,
  "metadata": {
    "colab": {
      "name": "\"pal-8_Denis_Shum_dz2.ipynb\"",
      "provenance": [],
      "collapsed_sections": [],
      "authorship_tag": "ABX9TyPoBVnMwOG+4oM4IAfhfZm7",
      "include_colab_link": true
    },
    "kernelspec": {
      "name": "python3",
      "display_name": "Python 3"
    },
    "language_info": {
      "name": "python"
    }
  },
  "cells": [
    {
      "cell_type": "markdown",
      "metadata": {
        "id": "view-in-github",
        "colab_type": "text"
      },
      "source": [
        "<a href=\"https://colab.research.google.com/github/DenShum/Python-/blob/main/%22pal_8_Denis_Shum_dz2_ipynb%22.ipynb\" target=\"_parent\"><img src=\"https://colab.research.google.com/assets/colab-badge.svg\" alt=\"Open In Colab\"/></a>"
      ]
    },
    {
      "cell_type": "code",
      "metadata": {
        "id": "HAXGqVBdFHxg"
      },
      "source": [
        "word = 'test'\n",
        "n=len(word)\n",
        "if n%2==0:\n",
        "  print(word[int(n/2)-1],word[int(n/2)])\n",
        "\n",
        "word = 'testing'\n",
        "n=len(word)\n",
        "if n%2==1:\n",
        "  print(word[int(n/2)])\n"
      ],
      "execution_count": null,
      "outputs": []
    },
    {
      "cell_type": "code",
      "metadata": {
        "id": "CoxRz404uH7G"
      },
      "source": [
        "x=int(input())\n",
        "sum=0\n",
        "while x!=0: \n",
        "  sum += x\n",
        "  x=int(input('Введите число:'))\n",
        "  print(x)\n",
        "  if x == 0: \n",
        "   print(sum)\n",
        " "
      ],
      "execution_count": null,
      "outputs": []
    },
    {
      "cell_type": "code",
      "metadata": {
        "id": "O4l06zN0_UeO"
      },
      "source": [
        "boys = ['Peter','Alex', 'John', 'Arthur', 'Richard']\n",
        "girls = ['Kate', 'Liza', 'Kira', 'Emma', 'Trisha']\n",
        "if len(boys)==len(girls):\n",
        "    print(\"Идеальная пара:\")\n",
        "    boys.sort()\n",
        "    girls.sort()\n",
        "    dating = zip(boys, girls)\n",
        "    for company in dating:\n",
        "        print(f\"{company[0]} и {company[1]}\")\n",
        "else:\n",
        "     print(\"Кто то может остаться без пары\")\n",
        "\n"
      ],
      "execution_count": null,
      "outputs": []
    },
    {
      "cell_type": "code",
      "metadata": {
        "colab": {
          "base_uri": "https://localhost:8080/"
        },
        "id": "2bVgs1xUzs2P",
        "outputId": "932d1dbb-be77-4b66-cfb1-82334cbf92e9"
      },
      "source": [
        "countries_temperature = [\n",
        "['Thailand', [75.2, 77, 78.8, 73.4, 68, 75.2, 77]],\n",
        "['Germany', [57.2, 55.4, 59, 59, 53.6]],\n",
        "['Russia', [35.6, 37.4, 39.2, 41, 42.8, 39.2, 35.6]],\n",
        "['Poland', [50, 50, 53.6, 57.2, 55.4, 55.4]]\n",
        "]\n",
        "for n in countries_temperature:\n",
        "    print(n[0], '-', round((sum(n[1]) / len(n[1]) - 32) / 1.8, 1), 'C')"
      ],
      "execution_count": null,
      "outputs": [
        {
          "output_type": "stream",
          "text": [
            "Thailand - 23.9 C\n",
            "Germany - 13.8 C\n",
            "Russia - 3.7 C\n",
            "Poland - 12.0 C\n"
          ],
          "name": "stdout"
        }
      ]
    }
  ]
}