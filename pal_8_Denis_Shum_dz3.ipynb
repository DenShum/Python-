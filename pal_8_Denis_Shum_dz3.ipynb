{
  "nbformat": 4,
  "nbformat_minor": 0,
  "metadata": {
    "colab": {
      "name": "pal-8_Denis_Shum_dz3.ipynb",
      "provenance": [],
      "collapsed_sections": [],
      "authorship_tag": "ABX9TyMU2z/9OhH6sJazyEMSIThR",
      "include_colab_link": true
    },
    "kernelspec": {
      "name": "python3",
      "display_name": "Python 3"
    },
    "language_info": {
      "name": "python"
    }
  },
  "cells": [
    {
      "cell_type": "markdown",
      "metadata": {
        "id": "view-in-github",
        "colab_type": "text"
      },
      "source": [
        "<a href=\"https://colab.research.google.com/github/DenShum/Python-/blob/main/pal_8_Denis_Shum_dz3.ipynb\" target=\"_parent\"><img src=\"https://colab.research.google.com/assets/colab-badge.svg\" alt=\"Open In Colab\"/></a>"
      ]
    },
    {
      "cell_type": "markdown",
      "metadata": {
        "id": "mXgQ6sdw97LB"
      },
      "source": [
        "1. Дана переменная, в которой хранится словарь, содержащий гео-метки для каждого пользователя (пример структуры данных приведен ниже). Вам необходимо написать программу, которая выведет на экран множество уникальных гео-меток всех пользователей.\n"
      ]
    },
    {
      "cell_type": "code",
      "metadata": {
        "colab": {
          "base_uri": "https://localhost:8080/"
        },
        "id": "FCm1CL1Y5ekV",
        "outputId": "626d1298-2c1c-4c3a-8dd3-6dfe169fefb1"
      },
      "source": [
        "ids = {'user1': [213, 213, 213, 15, 213],\n",
        "    'user2': [54, 54, 119, 119, 119],\n",
        "    'user3': [213, 98, 98, 35]}\n",
        "res=[]\n",
        "\n",
        "for geo in ids.values():\n",
        "    res += geo\n",
        "\n",
        "print(set(res))\n"
      ],
      "execution_count": null,
      "outputs": [
        {
          "output_type": "stream",
          "text": [
            "{98, 35, 15, 213, 54, 119}\n"
          ],
          "name": "stdout"
        }
      ]
    },
    {
      "cell_type": "markdown",
      "metadata": {
        "id": "b_8ebhZ79347"
      },
      "source": [
        "2. Дана переменная, в которой хранится список поисковых запросов пользователя (пример структуры данных приведен ниже). Вам необходимо написать программу, которая выведет на экран распределение количества слов в запросах в требуемом виде.\n",
        "Результат:\n",
        "\n",
        "Поисковых запросов, содержащих 2 слов(а): 42.86%\n",
        "Поисковых запросов, содержащих 3 слов(а): 57.14%"
      ]
    },
    {
      "cell_type": "code",
      "metadata": {
        "colab": {
          "base_uri": "https://localhost:8080/"
        },
        "id": "OPHGP4CuL9as",
        "outputId": "20ac77de-c9fb-4c0a-874a-35eab23f26ea"
      },
      "source": [
        "queries = [\n",
        "'смотреть сериалы онлайн',\n",
        "'новости спорта',\n",
        "'афиша кино',\n",
        "'курс доллара',\n",
        "'сериалы этим летом',\n",
        "'курс по питону',\n",
        "'сериалы про спорт',\n",
        "]\n",
        "a = len(queries)\n",
        "res = []\n",
        "q2 = list(enumerate(queries))\n",
        "for index, row in q2:\n",
        "  row = len(queries[index].split(' '))\n",
        "  res.append(row)\n",
        "for number in set(res):\n",
        "  print('Поисковых запросов, содержащих' , number, 'слов(а)',':', round((res.count(number) / a)*100, 2))"
      ],
      "execution_count": null,
      "outputs": [
        {
          "output_type": "stream",
          "text": [
            "Поисковых запросов, содержащих 2 слов(а) : 42.86\n",
            "Поисковых запросов, содержащих 3 слов(а) : 57.14\n"
          ],
          "name": "stdout"
        }
      ]
    },
    {
      "cell_type": "markdown",
      "metadata": {
        "id": "ON7aHvLHUIpB"
      },
      "source": [
        "Задание 3\n",
        "Дана переменная, в которой хранится информация о затратах и доходе рекламных кампаний по различным источникам. Необходимо дополнить исходную структуру показателем ROI, который рассчитаем по формуле: (revenue / cost - 1) * 100"
      ]
    },
    {
      "cell_type": "code",
      "metadata": {
        "colab": {
          "base_uri": "https://localhost:8080/"
        },
        "id": "dBX0ccxQUQfw",
        "outputId": "e8f2be38-40cc-46f5-f1c2-03ce3db91901"
      },
      "source": [
        "results = {\n",
        "'vk': {'revenue': 103, 'cost': 98},\n",
        "'yandex': {'revenue': 179, 'cost': 153},\n",
        "'facebook': {'revenue': 103, 'cost': 110},\n",
        "'adwords': {'revenue': 35, 'cost': 34},\n",
        "'twitter': {'revenue': 11, 'cost': 24},\n",
        "}\n",
        "res = []\n",
        "for key, val in results.items():\n",
        "  val['ROI'] = round(((val['revenue'] / val['cost']) - 1)*100 , 2)\n",
        "  print(key, val)\n"
      ],
      "execution_count": null,
      "outputs": [
        {
          "output_type": "stream",
          "text": [
            "vk {'revenue': 103, 'cost': 98, 'ROI': 5.1}\n",
            "yandex {'revenue': 179, 'cost': 153, 'ROI': 16.99}\n",
            "facebook {'revenue': 103, 'cost': 110, 'ROI': -6.36}\n",
            "adwords {'revenue': 35, 'cost': 34, 'ROI': 2.94}\n",
            "twitter {'revenue': 11, 'cost': 24, 'ROI': -54.17}\n"
          ],
          "name": "stdout"
        }
      ]
    },
    {
      "cell_type": "markdown",
      "metadata": {
        "id": "sIVxwkimrDlM"
      },
      "source": [
        "4.Дана переменная, в которой хранится статистика рекламных каналов по объемам продаж (пример структуры данных приведен ниже). Напишите программу, которая возвращает название канала с максимальным объемом продаж.\n",
        "Пример работы программы:\n",
        "\n",
        "stats = {‘facebook’: 55, ‘yandex’: 115, ‘vk’: 120, ‘google’: 99, ‘email’: 42, ‘ok’: 98}\n",
        "\n",
        "Результат: Максимальный объем продаж на рекламном канале: vk\n"
      ]
    },
    {
      "cell_type": "code",
      "metadata": {
        "colab": {
          "base_uri": "https://localhost:8080/"
        },
        "id": "aDdUhsvmrM4K",
        "outputId": "69a83fee-c3b1-4c02-b36b-a3ed4112ef34"
      },
      "source": [
        "stats = {'facebook': 55, 'yandex': 115, 'vk': 120, 'google': 99, 'email': 42, 'ok': 98}\n",
        "m = max(stats.values())\n",
        "for key, value in stats.items():\n",
        "  if value == m:\n",
        "    print('Максимальный объем продаж на рекламном канале', ':', key)\n",
        "  "
      ],
      "execution_count": null,
      "outputs": [
        {
          "output_type": "stream",
          "text": [
            "Максимальный объем продаж на рекламном канале : vk\n"
          ],
          "name": "stdout"
        }
      ]
    },
    {
      "cell_type": "code",
      "metadata": {
        "colab": {
          "base_uri": "https://localhost:8080/"
        },
        "id": "5QGpvIzdvPL9",
        "outputId": "4633bd00-a62f-46c8-d58b-619f7df8e33c"
      },
      "source": [
        "stats = {'a':1000, 'b':3000, 'c': 100}\n",
        "inverse = [(value, key) for key, value in stats.items()]\n",
        "print (max(inverse)[1])"
      ],
      "execution_count": null,
      "outputs": [
        {
          "output_type": "stream",
          "text": [
            "b\n"
          ],
          "name": "stdout"
        }
      ]
    },
    {
      "cell_type": "code",
      "metadata": {
        "colab": {
          "base_uri": "https://localhost:8080/"
        },
        "id": "Mrr1sP7UviTM",
        "outputId": "ea86e3d8-848c-457d-f151-d4e3fc21ee19"
      },
      "source": [
        "ids = {'user1': [213, 213, 213, 15, 213],\n",
        "    'user2': [54, 54, 119, 119, 119],\n",
        "    'user3': [213, 98, 98, 35]}\n",
        "\n",
        "print(set(sum(ids.values(),[])))"
      ],
      "execution_count": null,
      "outputs": [
        {
          "output_type": "stream",
          "text": [
            "{98, 35, 15, 213, 54, 119}\n"
          ],
          "name": "stdout"
        }
      ]
    },
    {
      "cell_type": "code",
      "metadata": {
        "colab": {
          "base_uri": "https://localhost:8080/"
        },
        "id": "filxvhOhxyIh",
        "outputId": "81604a19-d6c8-4660-967c-9f1999703229"
      },
      "source": [
        "ids = {'user1': [213, 213, 213, 15, 213],\n",
        "    'user2': [54, 54, 119, 119, 119],\n",
        "    'user3': [213, 98, 98, 35]}\n",
        "\n",
        "print(sum(ids.values(),[]))"
      ],
      "execution_count": null,
      "outputs": [
        {
          "output_type": "stream",
          "text": [
            "[213, 213, 213, 15, 213, 54, 54, 119, 119, 119, 213, 98, 98, 35]\n"
          ],
          "name": "stdout"
        }
      ]
    }
  ]
}